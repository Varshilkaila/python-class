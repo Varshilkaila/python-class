{
 "cells": [
  {
   "cell_type": "markdown",
   "id": "8f5da59f",
   "metadata": {},
   "source": [
    "# class 2"
   ]
  },
  {
   "cell_type": "code",
   "execution_count": 8,
   "id": "9500b7a3",
   "metadata": {},
   "outputs": [],
   "source": [
    "sample_list=[1,2.5,\"hello\",4558485,48]"
   ]
  },
  {
   "cell_type": "code",
   "execution_count": 9,
   "id": "23183ae2",
   "metadata": {},
   "outputs": [
    {
     "data": {
      "text/plain": [
       "2.5"
      ]
     },
     "execution_count": 9,
     "metadata": {},
     "output_type": "execute_result"
    }
   ],
   "source": [
    "sample_list[1]"
   ]
  },
  {
   "cell_type": "code",
   "execution_count": 11,
   "id": "4f78c067",
   "metadata": {},
   "outputs": [
    {
     "data": {
      "text/plain": [
       "4558485"
      ]
     },
     "execution_count": 11,
     "metadata": {},
     "output_type": "execute_result"
    }
   ],
   "source": [
    "sample_list[3]"
   ]
  },
  {
   "cell_type": "code",
   "execution_count": 12,
   "id": "67e12542",
   "metadata": {},
   "outputs": [
    {
     "data": {
      "text/plain": [
       "'hello'"
      ]
     },
     "execution_count": 12,
     "metadata": {},
     "output_type": "execute_result"
    }
   ],
   "source": [
    "sample_list[2\n",
    "        ]"
   ]
  },
  {
   "cell_type": "code",
   "execution_count": 13,
   "id": "a322aacc",
   "metadata": {},
   "outputs": [
    {
     "data": {
      "text/plain": [
       "4558485"
      ]
     },
     "execution_count": 13,
     "metadata": {},
     "output_type": "execute_result"
    }
   ],
   "source": [
    "sample_list[-2]"
   ]
  },
  {
   "cell_type": "code",
   "execution_count": 14,
   "id": "7de60e88",
   "metadata": {},
   "outputs": [],
   "source": [
    "sample_list[1]=10"
   ]
  },
  {
   "cell_type": "code",
   "execution_count": 15,
   "id": "81b4acb7",
   "metadata": {},
   "outputs": [
    {
     "data": {
      "text/plain": [
       "[1, 10, 'hello', 4558485, 48]"
      ]
     },
     "execution_count": 15,
     "metadata": {},
     "output_type": "execute_result"
    }
   ],
   "source": [
    "sample_list"
   ]
  },
  {
   "cell_type": "code",
   "execution_count": 16,
   "id": "0221a0d9",
   "metadata": {},
   "outputs": [
    {
     "ename": "IndexError",
     "evalue": "list index out of range",
     "output_type": "error",
     "traceback": [
      "\u001b[1;31m---------------------------------------------------------------------------\u001b[0m",
      "\u001b[1;31mIndexError\u001b[0m                                Traceback (most recent call last)",
      "Cell \u001b[1;32mIn[16], line 1\u001b[0m\n\u001b[1;32m----> 1\u001b[0m \u001b[43msample_list\u001b[49m\u001b[43m[\u001b[49m\u001b[38;5;241;43m7\u001b[39;49m\u001b[43m]\u001b[49m\n",
      "\u001b[1;31mIndexError\u001b[0m: list index out of range"
     ]
    }
   ],
   "source": [
    "sample_list[7]"
   ]
  },
  {
   "cell_type": "markdown",
   "id": "81e2ebf1",
   "metadata": {},
   "source": [
    "# tuple code"
   ]
  },
  {
   "cell_type": "code",
   "execution_count": 17,
   "id": "635b78ff",
   "metadata": {},
   "outputs": [],
   "source": [
    "sample_tuple=(1,5,89,56,7,2)"
   ]
  },
  {
   "cell_type": "code",
   "execution_count": 18,
   "id": "81a99dcb",
   "metadata": {},
   "outputs": [
    {
     "data": {
      "text/plain": [
       "1"
      ]
     },
     "execution_count": 18,
     "metadata": {},
     "output_type": "execute_result"
    }
   ],
   "source": [
    "sample_tuple[0]"
   ]
  },
  {
   "cell_type": "code",
   "execution_count": 19,
   "id": "1b417323",
   "metadata": {},
   "outputs": [
    {
     "ename": "TypeError",
     "evalue": "'tuple' object does not support item assignment",
     "output_type": "error",
     "traceback": [
      "\u001b[1;31m---------------------------------------------------------------------------\u001b[0m",
      "\u001b[1;31mTypeError\u001b[0m                                 Traceback (most recent call last)",
      "Cell \u001b[1;32mIn[19], line 1\u001b[0m\n\u001b[1;32m----> 1\u001b[0m sample_tuple[\u001b[38;5;241m2\u001b[39m]\u001b[38;5;241m=\u001b[39m\u001b[38;5;241m5\u001b[39m\n",
      "\u001b[1;31mTypeError\u001b[0m: 'tuple' object does not support item assignment"
     ]
    }
   ],
   "source": [
    "sample_tuple[2]=5"
   ]
  },
  {
   "cell_type": "markdown",
   "id": "4fb810f5",
   "metadata": {},
   "source": [
    "### don't able to make changes"
   ]
  },
  {
   "cell_type": "markdown",
   "id": "1d42d79c",
   "metadata": {},
   "source": [
    "# set"
   ]
  },
  {
   "cell_type": "code",
   "execution_count": 24,
   "id": "c4da403b",
   "metadata": {},
   "outputs": [
    {
     "data": {
      "text/plain": [
       "{1, 1999, 2, 5, 6, 7, 99, 'hello', 'king', 'ok'}"
      ]
     },
     "execution_count": 24,
     "metadata": {},
     "output_type": "execute_result"
    }
   ],
   "source": [
    "sample_set={1,2,5,99,1999,\"ok\",7,1,6,2,5,99,\"hello\",\"king\"}\n",
    "sample_set"
   ]
  },
  {
   "cell_type": "code",
   "execution_count": 21,
   "id": "b559137f",
   "metadata": {},
   "outputs": [
    {
     "ename": "TypeError",
     "evalue": "'set' object is not subscriptable",
     "output_type": "error",
     "traceback": [
      "\u001b[1;31m---------------------------------------------------------------------------\u001b[0m",
      "\u001b[1;31mTypeError\u001b[0m                                 Traceback (most recent call last)",
      "Cell \u001b[1;32mIn[21], line 1\u001b[0m\n\u001b[1;32m----> 1\u001b[0m \u001b[43msample_set\u001b[49m\u001b[43m[\u001b[49m\u001b[38;5;241;43m0\u001b[39;49m\u001b[43m]\u001b[49m\n",
      "\u001b[1;31mTypeError\u001b[0m: 'set' object is not subscriptable"
     ]
    }
   ],
   "source": [
    "sample_set[0]"
   ]
  },
  {
   "cell_type": "code",
   "execution_count": 25,
   "id": "20780f10",
   "metadata": {},
   "outputs": [
    {
     "ename": "TypeError",
     "evalue": "'set' object does not support item assignment",
     "output_type": "error",
     "traceback": [
      "\u001b[1;31m---------------------------------------------------------------------------\u001b[0m",
      "\u001b[1;31mTypeError\u001b[0m                                 Traceback (most recent call last)",
      "Cell \u001b[1;32mIn[25], line 1\u001b[0m\n\u001b[1;32m----> 1\u001b[0m sample_set[\u001b[38;5;241m0\u001b[39m]\u001b[38;5;241m=\u001b[39m\u001b[38;5;124m\"\u001b[39m\u001b[38;5;124mok\u001b[39m\u001b[38;5;124m\"\u001b[39m\n",
      "\u001b[1;31mTypeError\u001b[0m: 'set' object does not support item assignment"
     ]
    }
   ],
   "source": [
    "sample_set[0]=\"ok\""
   ]
  },
  {
   "cell_type": "code",
   "execution_count": 26,
   "id": "ec4368c0",
   "metadata": {},
   "outputs": [],
   "source": [
    "sample_set.add(25995)"
   ]
  },
  {
   "cell_type": "code",
   "execution_count": 27,
   "id": "9869dfda",
   "metadata": {},
   "outputs": [
    {
     "data": {
      "text/plain": [
       "{1, 1999, 2, 25995, 5, 6, 7, 99, 'hello', 'king', 'ok'}"
      ]
     },
     "execution_count": 27,
     "metadata": {},
     "output_type": "execute_result"
    }
   ],
   "source": [
    "sample_set"
   ]
  },
  {
   "cell_type": "code",
   "execution_count": 28,
   "id": "5ad9078d",
   "metadata": {},
   "outputs": [],
   "source": [
    "sample_set.remove(\"king\")"
   ]
  },
  {
   "cell_type": "code",
   "execution_count": 29,
   "id": "c870a04c",
   "metadata": {},
   "outputs": [
    {
     "data": {
      "text/plain": [
       "{1, 1999, 2, 25995, 5, 6, 7, 99, 'hello', 'ok'}"
      ]
     },
     "execution_count": 29,
     "metadata": {},
     "output_type": "execute_result"
    }
   ],
   "source": [
    "sample_set"
   ]
  },
  {
   "cell_type": "markdown",
   "id": "5f22fbb4",
   "metadata": {},
   "source": [
    "## dictionary"
   ]
  },
  {
   "cell_type": "code",
   "execution_count": 31,
   "id": "8c47dfc8",
   "metadata": {},
   "outputs": [
    {
     "data": {
      "text/plain": [
       "{1: 'apple', 2: 'hi', 3: 7802, 6: 7802}"
      ]
     },
     "execution_count": 31,
     "metadata": {},
     "output_type": "execute_result"
    }
   ],
   "source": [
    "sample_dict={1:\"apple\",2:\"world\",3:7802,6:7802,2:\"hi\"}\n",
    "sample_dict"
   ]
  },
  {
   "cell_type": "code",
   "execution_count": 32,
   "id": "be23713d",
   "metadata": {},
   "outputs": [
    {
     "data": {
      "text/plain": [
       "7802"
      ]
     },
     "execution_count": 32,
     "metadata": {},
     "output_type": "execute_result"
    }
   ],
   "source": [
    "sample_dict[3]"
   ]
  },
  {
   "cell_type": "code",
   "execution_count": 33,
   "id": "f5247dfe",
   "metadata": {},
   "outputs": [
    {
     "ename": "KeyError",
     "evalue": "'hi'",
     "output_type": "error",
     "traceback": [
      "\u001b[1;31m---------------------------------------------------------------------------\u001b[0m",
      "\u001b[1;31mKeyError\u001b[0m                                  Traceback (most recent call last)",
      "Cell \u001b[1;32mIn[33], line 1\u001b[0m\n\u001b[1;32m----> 1\u001b[0m \u001b[43msample_dict\u001b[49m\u001b[43m[\u001b[49m\u001b[38;5;124;43m\"\u001b[39;49m\u001b[38;5;124;43mhi\u001b[39;49m\u001b[38;5;124;43m\"\u001b[39;49m\u001b[43m]\u001b[49m\n",
      "\u001b[1;31mKeyError\u001b[0m: 'hi'"
     ]
    }
   ],
   "source": [
    "sample_dict[\"hi\"]"
   ]
  },
  {
   "cell_type": "code",
   "execution_count": 34,
   "id": "aaea3f37",
   "metadata": {},
   "outputs": [
    {
     "data": {
      "text/plain": [
       "'hi'"
      ]
     },
     "execution_count": 34,
     "metadata": {},
     "output_type": "execute_result"
    }
   ],
   "source": [
    "sample_dict[2]"
   ]
  },
  {
   "cell_type": "code",
   "execution_count": 35,
   "id": "c6c3506c",
   "metadata": {},
   "outputs": [],
   "source": [
    "sample_dict[2]=56"
   ]
  },
  {
   "cell_type": "code",
   "execution_count": 36,
   "id": "6940347a",
   "metadata": {},
   "outputs": [
    {
     "data": {
      "text/plain": [
       "{1: 'apple', 2: 56, 3: 7802, 6: 7802}"
      ]
     },
     "execution_count": 36,
     "metadata": {},
     "output_type": "execute_result"
    }
   ],
   "source": [
    "sample_dict"
   ]
  },
  {
   "cell_type": "code",
   "execution_count": 37,
   "id": "b51e4e32",
   "metadata": {},
   "outputs": [
    {
     "ename": "AttributeError",
     "evalue": "'dict' object has no attribute 'add'",
     "output_type": "error",
     "traceback": [
      "\u001b[1;31m---------------------------------------------------------------------------\u001b[0m",
      "\u001b[1;31mAttributeError\u001b[0m                            Traceback (most recent call last)",
      "Cell \u001b[1;32mIn[37], line 1\u001b[0m\n\u001b[1;32m----> 1\u001b[0m \u001b[43msample_dict\u001b[49m\u001b[38;5;241;43m.\u001b[39;49m\u001b[43madd\u001b[49m(\u001b[38;5;124m\"\u001b[39m\u001b[38;5;124mhelloworld\u001b[39m\u001b[38;5;124m\"\u001b[39m)\n",
      "\u001b[1;31mAttributeError\u001b[0m: 'dict' object has no attribute 'add'"
     ]
    }
   ],
   "source": [
    "sample_dict.add(\"helloworld\")"
   ]
  },
  {
   "cell_type": "code",
   "execution_count": null,
   "id": "e09790f4",
   "metadata": {},
   "outputs": [],
   "source": []
  }
 ],
 "metadata": {
  "kernelspec": {
   "display_name": "Python 3 (ipykernel)",
   "language": "python",
   "name": "python3"
  },
  "language_info": {
   "codemirror_mode": {
    "name": "ipython",
    "version": 3
   },
   "file_extension": ".py",
   "mimetype": "text/x-python",
   "name": "python",
   "nbconvert_exporter": "python",
   "pygments_lexer": "ipython3",
   "version": "3.10.9"
  }
 },
 "nbformat": 4,
 "nbformat_minor": 5
}
